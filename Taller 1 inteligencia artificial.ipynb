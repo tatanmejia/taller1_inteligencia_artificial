{
 "cells": [
  {
   "cell_type": "code",
   "execution_count": 1,
   "metadata": {},
   "outputs": [
    {
     "name": "stdout",
     "output_type": "stream",
     "text": [
      "VALORES ALMACENADOS ESTATICAMENTE\n",
      "[3, 11, 6, 3, 2, 5, 24, 9, 12, 20]\n",
      " \n",
      "Total valores almacenados :  10\n",
      " \n",
      "Su respectiva moda [3]\n",
      "Mediana es: 7\n",
      "Varianza 50.25\n",
      "Couvarianza 7.472170590486631\n"
     ]
    }
   ],
   "source": [
    "#calculo de moda y media \n",
    "import statistics as stats\n",
    "print (\"VALORES ALMACENADOS ESTATICAMENTE\")\n",
    "valor = [ 3 , 11, 6, 3, 2, 5 , 24, 9, 12, 20 ]\n",
    "print (valor)\n",
    "print (\" \")\n",
    "totaldata= len(valor)\n",
    "print (\"Total valores almacenados : \", totaldata)\n",
    "print (\" \")\n",
    "\n",
    "\n",
    "#calculo de moda\n",
    "numdata = 0\n",
    "for i  in valor:\n",
    "    numNew = valor.count(i)\n",
    "    if numNew > numdata:\n",
    "        numdata = numNew \n",
    "\n",
    "modas = []\n",
    "for i in valor:\n",
    "    numNew = valor.count(i)\n",
    "    if numNew == numdata and i not in modas:\n",
    "        modas.append(i)\n",
    "        print (\"Su respectiva moda\", modas)\n",
    "        \n",
    "        \n",
    "#calculo de mediana\n",
    "valor.sort()\n",
    "\n",
    "if len(valor) % 2 == 0:\n",
    "    num = len(valor)\n",
    "    mediana = (valor[num//2-1]+ valor[num//2] )//2\n",
    "else:\n",
    "         mediana =valor[len(valor)//2]\n",
    "print (\"Mediana es:\", mediana)  \n",
    "\n",
    "#calculo de varianza\n",
    "print (\"Varianza\", (stats.pvariance(valor)))\n",
    "\n",
    "\n",
    "#calculo de Covarianza\n",
    "print (\"Couvarianza\", (stats.stdev(valor)))"
   ]
  },
  {
   "cell_type": "code",
   "execution_count": null,
   "metadata": {},
   "outputs": [],
   "source": []
  },
  {
   "cell_type": "code",
   "execution_count": null,
   "metadata": {},
   "outputs": [],
   "source": []
  },
  {
   "cell_type": "code",
   "execution_count": null,
   "metadata": {},
   "outputs": [],
   "source": []
  }
 ],
 "metadata": {
  "kernelspec": {
   "display_name": "Python 3",
   "language": "python",
   "name": "python3"
  },
  "language_info": {
   "codemirror_mode": {
    "name": "ipython",
    "version": 3
   },
   "file_extension": ".py",
   "mimetype": "text/x-python",
   "name": "python",
   "nbconvert_exporter": "python",
   "pygments_lexer": "ipython3",
   "version": "3.6.4"
  }
 },
 "nbformat": 4,
 "nbformat_minor": 2
}
